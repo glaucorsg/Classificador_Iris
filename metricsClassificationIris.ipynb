{
 "cells": [
  {
   "cell_type": "code",
   "execution_count": 1,
   "metadata": {},
   "outputs": [],
   "source": [
    "# Importando as bibliotecas necessárias\n",
    "%matplotlib inline\n",
    "import pandas as pd\n",
    "from sklearn import svm\n",
    "from sklearn.datasets import load_iris\n",
    "from sklearn.model_selection import train_test_split\n",
    "from sklearn.neighbors import KNeighborsClassifier\n",
    "from sklearn.naive_bayes import GaussianNB\n",
    "from sklearn.ensemble import RandomForestClassifier\n",
    "from sklearn.tree import DecisionTreeClassifier\n",
    "from sklearn.linear_model import LogisticRegression\n",
    "from sklearn.preprocessing import scale\n",
    "from sklearn.metrics import confusion_matrix\n",
    "from sklearn.metrics import classification_report\n",
    "from sklearn.metrics import ConfusionMatrixDisplay\n",
    "import matplotlib.pyplot as plt\n",
    "import numpy as np\n",
    "import csv\n",
    "from sklearn.datasets import load_iris\n",
    "from pandas.plotting import scatter_matrix\n",
    "from math import sqrt\n",
    "from typing import List\n",
    "from itertools import combinations\n",
    "import numpy as np\n",
    "import pandas as pd\n",
    "from sklearn import metrics\n",
    "from sklearn.preprocessing import minmax_scale\n",
    "from sklearn.model_selection import train_test_split\n",
    "from sklearn.tree import DecisionTreeClassifier\n",
    "import matplotlib.pyplot as plt"
   ]
  },
  {
   "cell_type": "code",
   "execution_count": 2,
   "metadata": {},
   "outputs": [],
   "source": [
    "# Lendo os dados da base Iris e carregando em um objeto\n",
    "dados = load_iris()"
   ]
  },
  {
   "cell_type": "code",
   "execution_count": 3,
   "metadata": {},
   "outputs": [
    {
     "name": "stdout",
     "output_type": "stream",
     "text": [
      "Nº de Linhas: [[5.1 3.5 1.4 0.2]\n",
      " [4.9 3.  1.4 0.2]\n",
      " [4.7 3.2 1.3 0.2]\n",
      " [4.6 3.1 1.5 0.2]\n",
      " [5.  3.6 1.4 0.2]\n",
      " [5.4 3.9 1.7 0.4]\n",
      " [4.6 3.4 1.4 0.3]\n",
      " [5.  3.4 1.5 0.2]\n",
      " [4.4 2.9 1.4 0.2]\n",
      " [4.9 3.1 1.5 0.1]]\n",
      "Nº de Colunas: [0 0 0 0 0 0 0 0 0 0]\n"
     ]
    }
   ],
   "source": [
    "# Verificando o formato do dataset\n",
    "print('Nº de Linhas:',(dados['data'][0:10]))\n",
    "print('Nº de Colunas:',(dados['target'][0:10]))"
   ]
  },
  {
   "cell_type": "code",
   "execution_count": 4,
   "metadata": {},
   "outputs": [],
   "source": [
    "# Dividindo o dataset em amostra de treino e teste (75% e 25%, respectivamente)\n",
    "x_train, x_test, y_train, y_test = train_test_split(dados['data'], dados['target'], test_size=0.30, random_state = 0)"
   ]
  },
  {
   "cell_type": "code",
   "execution_count": 5,
   "metadata": {
    "scrolled": false
   },
   "outputs": [
    {
     "name": "stdout",
     "output_type": "stream",
     "text": [
      "Treino: (105, 4)\n",
      "Teste: (45, 4)\n"
     ]
    }
   ],
   "source": [
    "# Verificando a divisão do dataset\n",
    "print('Treino: {}'.format(x_train.shape))\n",
    "print('Teste: {}'.format(x_test.shape))"
   ]
  },
  {
   "cell_type": "markdown",
   "metadata": {},
   "source": [
    "## Implementação KNN"
   ]
  },
  {
   "cell_type": "code",
   "execution_count": 6,
   "metadata": {},
   "outputs": [
    {
     "data": {
      "text/plain": [
       "KNeighborsClassifier(algorithm='brute', n_neighbors=3, weights='distance')"
      ]
     },
     "execution_count": 6,
     "metadata": {},
     "output_type": "execute_result"
    }
   ],
   "source": [
    "# Elaborando o modelo de classificação com base em KNN\n",
    "knn = KNeighborsClassifier(n_neighbors=3, algorithm='brute',weights='distance')\n",
    "knn.fit(x_train,y_train)"
   ]
  },
  {
   "cell_type": "code",
   "execution_count": 7,
   "metadata": {
    "scrolled": false
   },
   "outputs": [
    {
     "name": "stdout",
     "output_type": "stream",
     "text": [
      "Implementação KNN\n",
      "\n",
      "Treino: 1.0\n",
      "Teste: 0.9777777777777777\n",
      "\n",
      "Matriz de confusão: \n",
      " [[16  0  0]\n",
      " [ 0 17  1]\n",
      " [ 0  0 11]]\n",
      "\n",
      "Report: \n",
      "               precision    recall  f1-score   support\n",
      "\n",
      "           0       1.00      1.00      1.00        16\n",
      "           1       1.00      0.94      0.97        18\n",
      "           2       0.92      1.00      0.96        11\n",
      "\n",
      "    accuracy                           0.98        45\n",
      "   macro avg       0.97      0.98      0.98        45\n",
      "weighted avg       0.98      0.98      0.98        45\n",
      "\n",
      "Accuracy Score is: 97.778 % \n"
     ]
    }
   ],
   "source": [
    "# Avaliando o modelo criado\n",
    "print('Implementação KNN\\n')\n",
    "print('Treino: {}'.format(knn.score(x_train,y_train)))\n",
    "print('Teste: {}'.format(knn.score(x_test,y_test))) \n",
    "\n",
    "predicted_knn = knn.predict(x_test)\n",
    "\n",
    "matrix = confusion_matrix(y_test, predicted_knn)\n",
    "report = classification_report(y_test, predicted_knn)\n",
    "print('\\nMatriz de confusão: \\n', matrix)\n",
    "print('\\nReport: \\n', report)\n",
    "print(f'Accuracy Score is: {metrics.accuracy_score(y_test, predicted_knn) * 100:.3f} % ')"
   ]
  },
  {
   "cell_type": "markdown",
   "metadata": {},
   "source": [
    "## Implementação Regressão Logística"
   ]
  },
  {
   "cell_type": "code",
   "execution_count": 8,
   "metadata": {},
   "outputs": [
    {
     "data": {
      "text/plain": [
       "LogisticRegression(max_iter=2000)"
      ]
     },
     "execution_count": 8,
     "metadata": {},
     "output_type": "execute_result"
    }
   ],
   "source": [
    "# Elaborando o modelo de classificação com base em Regressão Logística\n",
    "logreg = LogisticRegression(max_iter=2000)\n",
    "logreg.fit(x_train,y_train)"
   ]
  },
  {
   "cell_type": "code",
   "execution_count": 9,
   "metadata": {},
   "outputs": [
    {
     "name": "stdout",
     "output_type": "stream",
     "text": [
      "Implementação Regressão logística\n",
      "\n",
      "Treino: 0.9809523809523809\n",
      "Teste: 0.9777777777777777\n",
      "\n",
      "Matriz de confusão: \n",
      " [[16  0  0]\n",
      " [ 0 17  1]\n",
      " [ 0  0 11]]\n",
      "\n",
      "Report: \n",
      "               precision    recall  f1-score   support\n",
      "\n",
      "           0       1.00      1.00      1.00        16\n",
      "           1       1.00      0.94      0.97        18\n",
      "           2       0.92      1.00      0.96        11\n",
      "\n",
      "    accuracy                           0.98        45\n",
      "   macro avg       0.97      0.98      0.98        45\n",
      "weighted avg       0.98      0.98      0.98        45\n",
      "\n",
      "Accuracy Score is: 97.778 % \n"
     ]
    }
   ],
   "source": [
    "# Avaliando o modelo criado\n",
    "print('Implementação Regressão logística\\n')\n",
    "print('Treino: {}'.format(logreg.score(x_train,y_train)))\n",
    "print('Teste: {}'.format(logreg.score(x_test,y_test))) \n",
    "\n",
    "predicted_logreg = logreg.predict(x_test)\n",
    "\n",
    "matrix = confusion_matrix(y_test, predicted_logreg)\n",
    "report = classification_report(y_test, predicted_logreg)\n",
    "print('\\nMatriz de confusão: \\n', matrix)\n",
    "print('\\nReport: \\n', report)\n",
    "print(f'Accuracy Score is: {metrics.accuracy_score(y_test, predicted_logreg) * 100:.3f} % ')\n",
    "\n"
   ]
  },
  {
   "cell_type": "markdown",
   "metadata": {},
   "source": [
    "## Implementação Árvore de Decisão"
   ]
  },
  {
   "cell_type": "code",
   "execution_count": 10,
   "metadata": {},
   "outputs": [
    {
     "data": {
      "text/plain": [
       "DecisionTreeClassifier()"
      ]
     },
     "execution_count": 10,
     "metadata": {},
     "output_type": "execute_result"
    }
   ],
   "source": [
    "# Elaborando o modelo de classificação com base em Árvore de Decisão \n",
    "dectree = DecisionTreeClassifier()\n",
    "dectree.fit(x_train,y_train)"
   ]
  },
  {
   "cell_type": "code",
   "execution_count": 11,
   "metadata": {},
   "outputs": [
    {
     "name": "stdout",
     "output_type": "stream",
     "text": [
      "Implementação Árvore de Decisão\n",
      "\n",
      "Treino: 1.0\n",
      "Teste: 0.9777777777777777\n",
      "\n",
      "Matriz de confusão: \n",
      " [[16  0  0]\n",
      " [ 0 17  1]\n",
      " [ 0  0 11]]\n",
      "\n",
      "Report: \n",
      "               precision    recall  f1-score   support\n",
      "\n",
      "           0       1.00      1.00      1.00        16\n",
      "           1       1.00      0.94      0.97        18\n",
      "           2       0.92      1.00      0.96        11\n",
      "\n",
      "    accuracy                           0.98        45\n",
      "   macro avg       0.97      0.98      0.98        45\n",
      "weighted avg       0.98      0.98      0.98        45\n",
      "\n",
      "Accuracy Score is: 97.778 % \n"
     ]
    }
   ],
   "source": [
    "# Avaliando o modelo criado\n",
    "print('Implementação Árvore de Decisão\\n')\n",
    "print('Treino: {}'.format(dectree.score(x_train,y_train)))\n",
    "print('Teste: {}'.format(dectree.score(x_test,y_test)))\n",
    "\n",
    "predicted_dectree = dectree.predict(x_test)\n",
    "\n",
    "matrix = confusion_matrix(y_test, predicted_dectree)\n",
    "report = classification_report(y_test, predicted_dectree)\n",
    "print('\\nMatriz de confusão: \\n', matrix)\n",
    "print('\\nReport: \\n', report)\n",
    "print(f'Accuracy Score is: {metrics.accuracy_score(y_test, predicted_dectree) * 100:.3f} % ')"
   ]
  },
  {
   "cell_type": "markdown",
   "metadata": {},
   "source": [
    "## Implementação Random Forest"
   ]
  },
  {
   "cell_type": "code",
   "execution_count": 12,
   "metadata": {},
   "outputs": [
    {
     "data": {
      "text/plain": [
       "RandomForestClassifier()"
      ]
     },
     "execution_count": 12,
     "metadata": {},
     "output_type": "execute_result"
    }
   ],
   "source": [
    "# Elaborando o modelo de classificação com base em Random Forest\n",
    "rf = RandomForestClassifier()\n",
    "rf.fit(x_train,y_train)"
   ]
  },
  {
   "cell_type": "code",
   "execution_count": 13,
   "metadata": {},
   "outputs": [
    {
     "name": "stdout",
     "output_type": "stream",
     "text": [
      "Implementação Random Forest\n",
      "\n",
      "Treino: 1.0\n",
      "Teste: 0.9777777777777777\n",
      "\n",
      "Matriz de confusão: \n",
      " [[16  0  0]\n",
      " [ 0 17  1]\n",
      " [ 0  0 11]]\n",
      "\n",
      "Report: \n",
      "               precision    recall  f1-score   support\n",
      "\n",
      "           0       1.00      1.00      1.00        16\n",
      "           1       1.00      0.94      0.97        18\n",
      "           2       0.92      1.00      0.96        11\n",
      "\n",
      "    accuracy                           0.98        45\n",
      "   macro avg       0.97      0.98      0.98        45\n",
      "weighted avg       0.98      0.98      0.98        45\n",
      "\n",
      "Accuracy Score is: 97.778 % \n"
     ]
    }
   ],
   "source": [
    "# Avaliando o modelo criado\n",
    "print('Implementação Random Forest\\n')\n",
    "print('Treino: {}'.format(rf.score(x_train,y_train)))\n",
    "print('Teste: {}'.format(rf.score(x_test,y_test)))\n",
    "\n",
    "predicted_rf = rf.predict(x_test)\n",
    "\n",
    "matrix = confusion_matrix(y_test, predicted_rf)\n",
    "report = classification_report(y_test, predicted_rf)\n",
    "print('\\nMatriz de confusão: \\n', matrix)\n",
    "print('\\nReport: \\n', report)\n",
    "print(f'Accuracy Score is: {metrics.accuracy_score(y_test, predicted_rf) * 100:.3f} % ')"
   ]
  },
  {
   "cell_type": "markdown",
   "metadata": {},
   "source": [
    "## Implementação Naive Bayes "
   ]
  },
  {
   "cell_type": "code",
   "execution_count": 14,
   "metadata": {},
   "outputs": [
    {
     "data": {
      "text/plain": [
       "GaussianNB()"
      ]
     },
     "execution_count": 14,
     "metadata": {},
     "output_type": "execute_result"
    }
   ],
   "source": [
    "# Elaborando o modelo de classificação com base em Gaussian Naive Bayes\n",
    "gnb = GaussianNB()\n",
    "gnb.fit(x_train,y_train)"
   ]
  },
  {
   "cell_type": "code",
   "execution_count": 15,
   "metadata": {},
   "outputs": [
    {
     "name": "stdout",
     "output_type": "stream",
     "text": [
      "Implementação Naive Bayes\n",
      "\n",
      "Treino: 0.9428571428571428\n",
      "Teste: 1.0\n",
      "\n",
      "Matriz de confusão: \n",
      " [[16  0  0]\n",
      " [ 0 18  0]\n",
      " [ 0  0 11]]\n",
      "\n",
      "Report: \n",
      "               precision    recall  f1-score   support\n",
      "\n",
      "           0       1.00      1.00      1.00        16\n",
      "           1       1.00      1.00      1.00        18\n",
      "           2       1.00      1.00      1.00        11\n",
      "\n",
      "    accuracy                           1.00        45\n",
      "   macro avg       1.00      1.00      1.00        45\n",
      "weighted avg       1.00      1.00      1.00        45\n",
      "\n",
      "Accuracy Score is: 100.000 % \n"
     ]
    }
   ],
   "source": [
    "# Avaliando o modelo criado\n",
    "print('Implementação Naive Bayes\\n')\n",
    "print('Treino: {}'.format(gnb.score(x_train,y_train)))\n",
    "print('Teste: {}'.format(gnb.score(x_test,y_test)))\n",
    "\n",
    "predicted_gnb = gnb.predict(x_test)\n",
    "\n",
    "matrix = confusion_matrix(y_test, predicted_gnb)\n",
    "report = classification_report(y_test, predicted_gnb)\n",
    "print('\\nMatriz de confusão: \\n', matrix)\n",
    "print('\\nReport: \\n', report)\n",
    "print(f'Accuracy Score is: {metrics.accuracy_score(y_test, predicted_gnb) * 100:.3f} % ')"
   ]
  }
 ],
 "metadata": {
  "kernelspec": {
   "display_name": "Python 3",
   "language": "python",
   "name": "python3"
  },
  "language_info": {
   "codemirror_mode": {
    "name": "ipython",
    "version": 3
   },
   "file_extension": ".py",
   "mimetype": "text/x-python",
   "name": "python",
   "nbconvert_exporter": "python",
   "pygments_lexer": "ipython3",
   "version": "3.8.10"
  }
 },
 "nbformat": 4,
 "nbformat_minor": 4
}
